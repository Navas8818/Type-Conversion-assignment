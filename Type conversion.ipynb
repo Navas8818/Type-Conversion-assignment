{
 "cells": [
  {
   "cell_type": "markdown",
   "id": "8769215d-5f2f-46ff-bba1-cb487619efac",
   "metadata": {},
   "source": [
    "1. Convert an integer to a floating-point number"
   ]
  },
  {
   "cell_type": "code",
   "execution_count": 7,
   "id": "38a7d690-61eb-4488-b0c4-fd386cb3e168",
   "metadata": {},
   "outputs": [
    {
     "data": {
      "text/plain": [
       "int"
      ]
     },
     "execution_count": 7,
     "metadata": {},
     "output_type": "execute_result"
    }
   ],
   "source": [
    "a=5\n",
    "type(a)"
   ]
  },
  {
   "cell_type": "code",
   "execution_count": 6,
   "id": "f0193d3c-a22e-4d9a-8806-3fff9728de01",
   "metadata": {},
   "outputs": [
    {
     "data": {
      "text/plain": [
       "5.0"
      ]
     },
     "execution_count": 6,
     "metadata": {},
     "output_type": "execute_result"
    }
   ],
   "source": [
    "float(a)"
   ]
  },
  {
   "cell_type": "markdown",
   "id": "3e502f80-040a-4948-9abc-bacc34851d00",
   "metadata": {},
   "source": [
    "2.Convert a float to a integer"
   ]
  },
  {
   "cell_type": "code",
   "execution_count": 1,
   "id": "efb9ab1e-567b-47c3-9a11-f7a4279ee026",
   "metadata": {},
   "outputs": [
    {
     "data": {
      "text/plain": [
       "float"
      ]
     },
     "execution_count": 1,
     "metadata": {},
     "output_type": "execute_result"
    }
   ],
   "source": [
    "b = 5.5\n",
    "type(b)"
   ]
  },
  {
   "cell_type": "code",
   "execution_count": 2,
   "id": "79cd3318-fc9c-45df-a652-f52d660501c3",
   "metadata": {},
   "outputs": [
    {
     "data": {
      "text/plain": [
       "5"
      ]
     },
     "execution_count": 2,
     "metadata": {},
     "output_type": "execute_result"
    }
   ],
   "source": [
    "int(b)"
   ]
  },
  {
   "cell_type": "markdown",
   "id": "dede801a-aad8-4b81-8f1a-bb5f3b58cca9",
   "metadata": {
    "tags": []
   },
   "source": [
    "3. Convert integer into string"
   ]
  },
  {
   "cell_type": "code",
   "execution_count": 3,
   "id": "428c7a7d-7797-449b-8c78-daab83adb48f",
   "metadata": {},
   "outputs": [],
   "source": [
    "c = \"10\""
   ]
  },
  {
   "cell_type": "code",
   "execution_count": 4,
   "id": "2a0d6e94-b33e-41d4-ab33-4dd7622741bd",
   "metadata": {},
   "outputs": [],
   "source": [
    "int_c= int(c)"
   ]
  },
  {
   "cell_type": "code",
   "execution_count": 5,
   "id": "6d441555-8a67-48b6-a467-ec87bc9c23b8",
   "metadata": {},
   "outputs": [
    {
     "name": "stdout",
     "output_type": "stream",
     "text": [
      "10\n"
     ]
    }
   ],
   "source": [
    "print(int_c)"
   ]
  },
  {
   "cell_type": "markdown",
   "id": "45892a2c-0825-4973-8f1f-c8fe9ef69c8c",
   "metadata": {},
   "source": [
    "4.Convert list to tuple"
   ]
  },
  {
   "cell_type": "code",
   "execution_count": 8,
   "id": "fdd511ed-b23f-453b-b85b-6b62e80f5629",
   "metadata": {},
   "outputs": [],
   "source": [
    "list_tuple = [1,2,3,\"PWSkills\",\"Datascience\"]\n"
   ]
  },
  {
   "cell_type": "code",
   "execution_count": 9,
   "id": "28241f1a-130a-4040-bbc4-ccb6dca65f73",
   "metadata": {},
   "outputs": [],
   "source": [
    "tuple_convert = tuple(list_tuple)"
   ]
  },
  {
   "cell_type": "code",
   "execution_count": 10,
   "id": "2317f5bb-9a5e-4edd-96b5-184e0f52f540",
   "metadata": {},
   "outputs": [
    {
     "name": "stdout",
     "output_type": "stream",
     "text": [
      "(1, 2, 3, 'PWSkills', 'Datascience')\n"
     ]
    }
   ],
   "source": [
    "print(tuple_convert)"
   ]
  },
  {
   "cell_type": "markdown",
   "id": "44485c61-5545-4fa5-8c03-a016d7398a36",
   "metadata": {},
   "source": [
    "5. Convert tuple to list"
   ]
  },
  {
   "cell_type": "code",
   "execution_count": 12,
   "id": "81e5f527-5afd-43ec-8f50-8d35f15a96b5",
   "metadata": {},
   "outputs": [
    {
     "name": "stdout",
     "output_type": "stream",
     "text": [
      "[1, 2, 3, 'PW skills', 58.5]\n"
     ]
    }
   ],
   "source": [
    "tuple_list = (1,2,3, \"PW skills\", 58.5)\n",
    "list_convert = list(tuple_list)\n",
    "print(list_convert)"
   ]
  },
  {
   "cell_type": "markdown",
   "id": "b6651b45-6188-4b4e-9063-ffb1fd8f1af8",
   "metadata": {},
   "source": [
    "6.Convert a decimal to binary number"
   ]
  },
  {
   "cell_type": "code",
   "execution_count": 13,
   "id": "8b9d076f-e4d0-40f0-9415-249717c2ed14",
   "metadata": {},
   "outputs": [
    {
     "name": "stdout",
     "output_type": "stream",
     "text": [
      "0b1111\n"
     ]
    }
   ],
   "source": [
    "decimal_binary = 15\n",
    "binary_number = bin(decimal_binary)\n",
    "print(binary_number)"
   ]
  },
  {
   "cell_type": "markdown",
   "id": "9874152c-ed70-42c9-b13b-9bea71b51f1a",
   "metadata": {},
   "source": [
    "7. Convert a non-zero to boolean"
   ]
  },
  {
   "cell_type": "code",
   "execution_count": 14,
   "id": "a193d74d-d0e8-4033-a471-bd7b1c2965f2",
   "metadata": {},
   "outputs": [
    {
     "name": "stdout",
     "output_type": "stream",
     "text": [
      "True\n"
     ]
    }
   ],
   "source": [
    "a = 15\n",
    "boolean = bool(a)\n",
    "print(boolean)"
   ]
  },
  {
   "cell_type": "code",
   "execution_count": 16,
   "id": "8525496c-eedb-4e6e-9b52-be61fbd6a005",
   "metadata": {},
   "outputs": [
    {
     "name": "stdout",
     "output_type": "stream",
     "text": [
      "False\n"
     ]
    }
   ],
   "source": [
    "b = 0\n",
    "boolean = bool(b)\n",
    "print(boolean)"
   ]
  },
  {
   "cell_type": "code",
   "execution_count": null,
   "id": "d5c61c1c-c6ce-44a8-9a6d-072a27ba6840",
   "metadata": {},
   "outputs": [],
   "source": []
  }
 ],
 "metadata": {
  "kernelspec": {
   "display_name": "Python 3 (ipykernel)",
   "language": "python",
   "name": "python3"
  },
  "language_info": {
   "codemirror_mode": {
    "name": "ipython",
    "version": 3
   },
   "file_extension": ".py",
   "mimetype": "text/x-python",
   "name": "python",
   "nbconvert_exporter": "python",
   "pygments_lexer": "ipython3",
   "version": "3.10.8"
  }
 },
 "nbformat": 4,
 "nbformat_minor": 5
}
